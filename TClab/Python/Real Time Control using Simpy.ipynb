{
 "cells": [
  {
   "cell_type": "markdown",
   "metadata": {},
   "source": [
    "# Real Time Control using Simpy"
   ]
  },
  {
   "cell_type": "code",
   "execution_count": 16,
   "metadata": {},
   "outputs": [
    {
     "name": "stdout",
     "output_type": "stream",
     "text": [
      "Opening connection\n",
      "TClab connected via Arduino on port /dev/tty.wchusbserial1410\n",
      "   0.00    100.00    37.01\n",
      "   5.00    100.00    36.69\n",
      "  10.00    100.00    36.69\n",
      "  15.00    100.00    37.01\n",
      "  20.00    100.00    37.66\n",
      "  25.00    100.00    38.62\n",
      "  30.00    100.00    40.23\n",
      "  35.00      0.00    41.52\n",
      "  40.00      0.00    42.49\n",
      "  45.00      0.00    43.46\n",
      "  50.00      0.00    43.78\n",
      "  55.00      0.00    43.78\n",
      "  60.00      0.00    43.78\n",
      "  65.00      0.00    43.78\n",
      "  70.00      0.00    43.13\n",
      "  75.00      0.00    43.13\n",
      "  80.00      0.00    42.81\n",
      "  85.00      0.00    42.17\n",
      "  90.00      0.00    41.85\n",
      "  95.00      0.00    41.52\n",
      " 100.00      0.00    41.20\n",
      " 105.00      0.00    40.56\n",
      " 110.00      0.00    39.91\n",
      " 115.00    100.00    39.91\n",
      " 120.00    100.00    39.59\n",
      " 125.00    100.00    39.91\n",
      " 130.00      0.00    40.56\n",
      " 135.00      0.00    41.52\n",
      " 140.00      0.00    41.85\n",
      " 145.00      0.00    41.85\n",
      " 150.00      0.00    41.85\n",
      " 155.00      0.00    41.85\n",
      " 160.00      0.00    41.52\n",
      " 165.00      0.00    41.20\n",
      " 170.00      0.00    41.20\n",
      " 175.00      0.00    40.56\n",
      " 180.00      0.00    40.23\n",
      " 185.00    100.00    39.91\n",
      " 190.00    100.00    39.59\n",
      " 195.00    100.00    40.23\n"
     ]
    }
   ],
   "source": [
    "import simpy.rt\n",
    "from TClab import TClab\n",
    "env = simpy.rt.RealtimeEnvironment(strict=False)\n",
    "\n",
    "a = TClab()\n",
    "\n",
    "SP = 40.0\n",
    "def control(env):\n",
    "    while True:\n",
    "        a.Q1 = 100 if a.T1 <= SP else 0\n",
    "        yield env.timeout(1)\n",
    "         \n",
    "def reporter(env):\n",
    "    while True:\n",
    "        print('{0:7.2f}   {1:7.2f}  {2:7.2f}'.format(env.now, a.Q1, a.T1), flush=True)\n",
    "        yield env.timeout(5)\n",
    "        \n",
    "env.process(control(env))\n",
    "env.process(reporter(env))\n",
    "env.run(until=200)\n",
    "\n",
    "# shutdown heater\n",
    "a.Q1 = 0"
   ]
  },
  {
   "cell_type": "code",
   "execution_count": 17,
   "metadata": {},
   "outputs": [
    {
     "data": {
      "image/png": "[encoded data removed]",
      "text/plain": [
       "<matplotlib.figure.Figure at 0x119e78c18>"
      ]
     },
     "metadata": {},
     "output_type": "display_data"
    }
   ],
   "source": [
    "a.plot()"
   ]
  },
  {
   "cell_type": "code",
   "execution_count": null,
   "metadata": {
    "collapsed": true
   },
   "outputs": [],
   "source": []
  }
 ],
 "metadata": {
  "kernelspec": {
   "display_name": "Python 3",
   "language": "python",
   "name": "python3"
  },
  "language_info": {
   "codemirror_mode": {
    "name": "ipython",
    "version": 3
   },
   "file_extension": ".py",
   "mimetype": "text/x-python",
   "name": "python",
   "nbconvert_exporter": "python",
   "pygments_lexer": "ipython3",
   "version": "3.6.1"
  }
 },
 "nbformat": 4,
 "nbformat_minor": 2
}
