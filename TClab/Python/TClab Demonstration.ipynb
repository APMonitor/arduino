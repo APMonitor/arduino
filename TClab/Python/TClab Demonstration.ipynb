{
 "cells": [
  {
   "cell_type": "code",
   "execution_count": 1,
   "metadata": {},
   "outputs": [
    {
     "name": "stdout",
     "output_type": "stream",
     "text": [
      "TClab connected via Simulation\n",
      "TClab Simulation Version 0.1\n",
      "\n",
      "Temperature 1: = 20.00 C\n",
      "Temperature 2: = 20.00 C\n",
      "\n",
      "Set Heater 1 to 100 mV\n",
      "Set Heater 2 to 50 mV\n",
      "     0 sec:   T1 = 20.00 C    T2 = 20.00 C\n",
      "     5 sec:   T1 = 24.91 C    T2 = 22.52 C\n",
      "    10 sec:   T1 = 29.96 C    T2 = 24.97 C\n",
      "    15 sec:   T1 = 34.27 C    T2 = 27.07 C\n",
      "    20 sec:   T1 = 38.67 C    T2 = 28.93 C\n",
      "    25 sec:   T1 = 42.22 C    T2 = 30.75 C\n",
      "    30 sec:   T1 = 45.94 C    T2 = 32.46 C\n",
      "    35 sec:   T1 = 49.54 C    T2 = 33.96 C\n",
      "    40 sec:   T1 = 53.00 C    T2 = 35.45 C\n",
      "    45 sec:   T1 = 55.94 C    T2 = 36.67 C\n",
      "    50 sec:   T1 = 58.90 C    T2 = 37.89 C\n",
      "    55 sec:   T1 = 61.95 C    T2 = 39.11 C\n",
      "    60 sec:   T1 = 64.60 C    T2 = 40.22 C\n",
      "\n",
      "Set Heater 1 to 0 mV\n",
      "Set Heater 2 to 0 mV\n",
      "    65 sec:   T1 = 66.79 C    T2 = 41.26 C\n",
      "    70 sec:   T1 = 64.24 C    T2 = 39.74 C\n",
      "    75 sec:   T1 = 61.86 C    T2 = 38.33 C\n",
      "    80 sec:   T1 = 59.60 C    T2 = 37.01 C\n",
      "    85 sec:   T1 = 57.46 C    T2 = 35.77 C\n",
      "    90 sec:   T1 = 55.45 C    T2 = 34.62 C\n",
      "    95 sec:   T1 = 53.54 C    T2 = 33.54 C\n",
      "   100 sec:   T1 = 51.73 C    T2 = 32.53 C\n",
      "   105 sec:   T1 = 50.03 C    T2 = 31.60 C\n",
      "   110 sec:   T1 = 48.42 C    T2 = 30.73 C\n",
      "   115 sec:   T1 = 46.89 C    T2 = 29.91 C\n",
      "   120 sec:   T1 = 45.46 C    T2 = 29.15 C\n"
     ]
    }
   ],
   "source": [
    "from TClab import TClab\n",
    "import time\n",
    "import matplotlib.pyplot as plt\n",
    "\n",
    "# Connect to Arduino\n",
    "a = TClab(simulation=True)\n",
    "\n",
    "# Get Version\n",
    "print(a.version)\n",
    "\n",
    "# Read temperatures\n",
    "print()\n",
    "print(\"Temperature 1: = {0:0.2f} C\".format(a.T1))\n",
    "print(\"Temperature 2: = {0:0.2f} C\".format(a.T2))\n",
    "\n",
    "# Write Voltages\n",
    "a.Q1 = 100\n",
    "a.Q2 =  50\n",
    "print()\n",
    "print(\"Set Heater 1 to {0:d} mV\".format(a.Q1))\n",
    "print(\"Set Heater 2 to {0:d} mV\".format(a.Q2))\n",
    "sfmt = \"   {0:3d} sec:   T1 = {1:0.2f} C    T2 = {2:0.2f} C\"\n",
    "for i in range(0,65,5):\n",
    "    print(sfmt.format(i, a.T1, a.T2), flush=True)\n",
    "    time.sleep(.5)\n",
    "\n",
    "a.Q1 = 0\n",
    "a.Q2 = 0\n",
    "print()\n",
    "print(\"Set Heater 1 to {0:d} mV\".format(a.Q1))\n",
    "print(\"Set Heater 2 to {0:d} mV\".format(a.Q2))\n",
    "for i in range(65,125,5):\n",
    "    print(sfmt.format(i, a.T1, a.T2), flush=True)\n",
    "    time.sleep(.5)"
   ]
  },
  {
   "cell_type": "code",
   "execution_count": 3,
   "metadata": {},
   "outputs": [
    {
     "data": {
      "image/png": "[encoded data removed]",
      "text/plain": [
       "<matplotlib.figure.Figure at 0x11e9dc2e8>"
      ]
     },
     "metadata": {},
     "output_type": "display_data"
    }
   ],
   "source": [
    "%matplotlib inline\n",
    "a.plot()"
   ]
  },
  {
   "cell_type": "code",
   "execution_count": null,
   "metadata": {
    "collapsed": true
   },
   "outputs": [],
   "source": []
  }
 ],
 "metadata": {
  "kernelspec": {
   "display_name": "Python 3",
   "language": "python",
   "name": "python3"
  },
  "language_info": {
   "codemirror_mode": {
    "name": "ipython",
    "version": 3
   },
   "file_extension": ".py",
   "mimetype": "text/x-python",
   "name": "python",
   "nbconvert_exporter": "python",
   "pygments_lexer": "ipython3",
   "version": "3.6.1"
  }
 },
 "nbformat": 4,
 "nbformat_minor": 2
}
