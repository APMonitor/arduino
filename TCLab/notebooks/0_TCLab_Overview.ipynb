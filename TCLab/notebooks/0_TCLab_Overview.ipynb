{
 "cells": [
  {
   "cell_type": "markdown",
   "metadata": {
    "deletable": true,
    "editable": true
   },
   "source": [
    "# 0 TCLab Overview"
   ]
  },
  {
   "cell_type": "markdown",
   "metadata": {
    "deletable": true,
    "editable": true
   },
   "source": [
    "## Imports"
   ]
  },
  {
   "cell_type": "code",
   "execution_count": 2,
   "metadata": {
    "collapsed": true,
    "deletable": true,
    "editable": true
   },
   "outputs": [],
   "source": [
    "import time\n",
    "import sys\n",
    "\n",
    "sys.path.append(\"../TCLab\")\n",
    "from TCLab import TCLab"
   ]
  },
  {
   "cell_type": "markdown",
   "metadata": {
    "deletable": true,
    "editable": true
   },
   "source": [
    "## Connecting"
   ]
  },
  {
   "cell_type": "code",
   "execution_count": 3,
   "metadata": {
    "collapsed": false,
    "deletable": true,
    "editable": true
   },
   "outputs": [
    {
     "name": "stdout",
     "output_type": "stream",
     "text": [
      "Opening connection\n",
      "TCLab connected via Arduino on port /dev/tty.wchusbserial1410\n"
     ]
    }
   ],
   "source": [
    "a = TCLab()"
   ]
  },
  {
   "cell_type": "markdown",
   "metadata": {
    "deletable": true,
    "editable": true
   },
   "source": [
    "## Reading Temperatures"
   ]
  },
  {
   "cell_type": "code",
   "execution_count": 4,
   "metadata": {
    "collapsed": false,
    "deletable": true,
    "editable": true
   },
   "outputs": [
    {
     "data": {
      "text/plain": [
       "'TClab Firmware Version 0.03'"
      ]
     },
     "execution_count": 4,
     "metadata": {},
     "output_type": "execute_result"
    }
   ],
   "source": [
    "a.version"
   ]
  },
  {
   "cell_type": "code",
   "execution_count": 5,
   "metadata": {
    "collapsed": false,
    "deletable": true,
    "editable": true
   },
   "outputs": [
    {
     "name": "stdout",
     "output_type": "stream",
     "text": [
      "Temperature 1: 51.19 C\n",
      "Temperature 2: 36.69 C\n"
     ]
    }
   ],
   "source": [
    "print(\"Temperature 1: {0:0.2f} C\".format(a.T1))\n",
    "print(\"Temperature 2: {0:0.2f} C\".format(a.T2))"
   ]
  },
  {
   "cell_type": "markdown",
   "metadata": {
    "deletable": true,
    "editable": true
   },
   "source": [
    "## Setting Heaters"
   ]
  },
  {
   "cell_type": "code",
   "execution_count": 6,
   "metadata": {
    "collapsed": false,
    "deletable": true,
    "editable": true
   },
   "outputs": [
    {
     "name": "stdout",
     "output_type": "stream",
     "text": [
      "Starting Temperature 1: 50.55 C\n",
      "Starting Temperature 2: 36.69 C\n",
      "\n",
      "Set Heater 1: 100 mV\n",
      "Set Heater 2: 50 mV\n",
      "\n",
      "Heat for 30 seconds\n",
      "..............................\n",
      "Turn Heaters Off\n",
      "\n",
      "Final Temperature 1: 53.13 C\n",
      "Final Temperature 2: 39.27 C\n"
     ]
    }
   ],
   "source": [
    "print(\"Starting Temperature 1: {0:0.2f} C\".format(a.T1))\n",
    "print(\"Starting Temperature 2: {0:0.2f} C\".format(a.T2))\n",
    "\n",
    "Theat = 30\n",
    "a.Q1 = 100\n",
    "a.Q2 =  50\n",
    "\n",
    "print()\n",
    "print(\"Set Heater 1:\", a.Q1, \"mV\")\n",
    "print(\"Set Heater 2:\", a.Q2, \"mV\")\n",
    "\n",
    "print(\"\\nHeat for\", Theat, \"seconds\")\n",
    "for k in range(0,int(Theat)):\n",
    "    print('.',end='',flush=True)\n",
    "    time.sleep(1)\n",
    "print()\n",
    "\n",
    "print(\"Turn Heaters Off\")\n",
    "a.Q1 = 0\n",
    "a.Q2 = 0\n",
    "\n",
    "print()\n",
    "print(\"Final Temperature 1: {0:0.2f} C\".format(a.T1))\n",
    "print(\"Final Temperature 2: {0:0.2f} C\".format(a.T2))"
   ]
  },
  {
   "cell_type": "markdown",
   "metadata": {
    "deletable": true,
    "editable": true
   },
   "source": [
    "## Logging Data"
   ]
  },
  {
   "cell_type": "code",
   "execution_count": 6,
   "metadata": {
    "collapsed": false,
    "deletable": true,
    "editable": true
   },
   "outputs": [
    {
     "name": "stdout",
     "output_type": "stream",
     "text": [
      "Set Heater 1 to 100 mV\n",
      "Set Heater 2 to 50 mV\n",
      "     0 sec:   T1 = 37.98 C    T2 = 31.86 C\n",
      "     5 sec:   T1 = 38.62 C    T2 = 32.50 C\n",
      "    10 sec:   T1 = 39.27 C    T2 = 32.82 C\n",
      "    15 sec:   T1 = 40.56 C    T2 = 33.47 C\n",
      "    20 sec:   T1 = 42.49 C    T2 = 34.43 C\n",
      "    25 sec:   T1 = 44.10 C    T2 = 35.72 C\n",
      "    30 sec:   T1 = 46.36 C    T2 = 37.98 C\n",
      "    35 sec:   T1 = 47.65 C    T2 = 37.66 C\n",
      "    40 sec:   T1 = 49.26 C    T2 = 38.62 C\n",
      "    45 sec:   T1 = 50.87 C    T2 = 39.91 C\n",
      "    50 sec:   T1 = 52.80 C    T2 = 41.20 C\n",
      "    55 sec:   T1 = 54.09 C    T2 = 42.49 C\n",
      "    60 sec:   T1 = 56.03 C    T2 = 43.13 C\n",
      "\n",
      "Set Heater 1 to 0 mV\n",
      "Set Heater 2 to 0 mV\n",
      "    65 sec:   T1 = 57.31 C    T2 = 44.42 C\n",
      "    70 sec:   T1 = 58.93 C    T2 = 45.39 C\n",
      "    75 sec:   T1 = 59.89 C    T2 = 46.36 C\n",
      "    80 sec:   T1 = 60.54 C    T2 = 47.00 C\n",
      "    85 sec:   T1 = 60.54 C    T2 = 47.32 C\n",
      "    90 sec:   T1 = 60.54 C    T2 = 47.65 C\n",
      "    95 sec:   T1 = 60.21 C    T2 = 47.65 C\n",
      "   100 sec:   T1 = 59.57 C    T2 = 47.97 C\n",
      "   105 sec:   T1 = 58.93 C    T2 = 47.65 C\n",
      "   110 sec:   T1 = 58.60 C    T2 = 47.32 C\n",
      "   115 sec:   T1 = 57.96 C    T2 = 47.32 C\n",
      "   120 sec:   T1 = 56.99 C    T2 = 47.00 C\n"
     ]
    },
    {
     "data": {
      "text/plain": [
       "'Sleep'"
      ]
     },
     "execution_count": 6,
     "metadata": {},
     "output_type": "execute_result"
    }
   ],
   "source": [
    "a.start()\n",
    "\n",
    "a.Q1 = 100\n",
    "a.Q2 =  50\n",
    "print(\"Set Heater 1 to {0:d} mV\".format(a.Q1))\n",
    "print(\"Set Heater 2 to {0:d} mV\".format(a.Q2))\n",
    "sfmt = \"   {0:3d} sec:   T1 = {1:0.2f} C    T2 = {2:0.2f} C\"\n",
    "for i in range(0,65,5):\n",
    "    print(sfmt.format(i, a.T1, a.T2), flush=True)\n",
    "    time.sleep(5)\n",
    "\n",
    "a.Q1 = 0\n",
    "a.Q2 = 0\n",
    "print()\n",
    "print(\"Set Heater 1 to {0:d} mV\".format(a.Q1))\n",
    "print(\"Set Heater 2 to {0:d} mV\".format(a.Q2))\n",
    "for i in range(65,125,5):\n",
    "    print(sfmt.format(i, a.T1, a.T2), flush=True)\n",
    "    time.sleep(5)\n",
    "    \n",
    "a.stop()"
   ]
  },
  {
   "cell_type": "markdown",
   "metadata": {
    "deletable": true,
    "editable": true
   },
   "source": [
    "## Plotting the Log"
   ]
  },
  {
   "cell_type": "code",
   "execution_count": 7,
   "metadata": {
    "collapsed": false,
    "deletable": true,
    "editable": true
   },
   "outputs": [
    {
     "data": {
      "image/png": "[encoded data removed]",
      "text/plain": [
       "<matplotlib.figure.Figure at 0x121b5de10>"
      ]
     },
     "metadata": {},
     "output_type": "display_data"
    }
   ],
   "source": [
    "%matplotlib inline\n",
    "a.plot()"
   ]
  },
  {
   "cell_type": "markdown",
   "metadata": {},
   "source": [
    "## Realtime Plotting with Simpy"
   ]
  },
  {
   "cell_type": "code",
   "execution_count": 1,
   "metadata": {
    "collapsed": false,
    "deletable": true,
    "editable": true
   },
   "outputs": [
    {
     "data": {
      "image/png": "[encoded data removed]",
      "text/plain": [
       "<matplotlib.figure.Figure at 0x103f8be80>"
      ]
     },
     "metadata": {},
     "output_type": "display_data"
    }
   ],
   "source": [
    "%matplotlib inline \n",
    "import matplotlib.pyplot as plt\n",
    "import numpy as np\n",
    "from IPython import display\n",
    "import simpy.rt\n",
    "\n",
    "import sys\n",
    "sys.path.append('../TCLab')\n",
    "from TCLab import TCLab\n",
    "\n",
    "tf = 200\n",
    "\n",
    "# create an empty plot, and keep the line object around\n",
    "plt.figure(figsize=(12,6))\n",
    "plt.subplot(2,1,1)\n",
    "line_T1, = plt.plot([],[],lw=2,alpha=0.6)\n",
    "line_T2, = plt.plot([],[],lw=2,alpha=0.6)\n",
    "plt.xlim(0,tf)\n",
    "plt.ylim(15,85)\n",
    "plt.title('Temperature Control Lab')\n",
    "plt.ylabel('deg C')\n",
    "plt.xlabel('Seconds')\n",
    "plt.legend(['T1','T2'])\n",
    "plt.grid()\n",
    "\n",
    "plt.subplot(2,1,2)\n",
    "line_Q1, = plt.step([],[],where='post',lw=2,alpha=0.6)\n",
    "line_Q2, = plt.step([],[],where='post',lw=2,alpha=0.6)\n",
    "plt.xlim(0,tf)\n",
    "plt.ylim(-5,105)\n",
    "plt.ylabel('mV')\n",
    "plt.xlabel('Seconds')\n",
    "plt.legend(['Q1','Q2'])\n",
    "plt.grid()\n",
    "\n",
    "plt.tight_layout()\n",
    "\n",
    "# define a function that appends to the plot\n",
    "def rt_plotter(env,a):\n",
    "    while True:\n",
    "        tp = env.now\n",
    "        line_T1.set_xdata(np.append(line_T1.get_xdata(),tp))\n",
    "        line_T1.set_ydata(np.append(line_T1.get_ydata(),a.T1))\n",
    "        line_T2.set_xdata(np.append(line_T2.get_xdata(),tp))\n",
    "        line_T2.set_ydata(np.append(line_T2.get_ydata(),a.T2))\n",
    "        line_Q1.set_xdata(np.append(line_Q1.get_xdata(),tp))\n",
    "        line_Q1.set_ydata(np.append(line_Q1.get_ydata(),a.Q1))\n",
    "        line_Q2.set_xdata(np.append(line_Q2.get_xdata(),tp))\n",
    "        line_Q2.set_ydata(np.append(line_Q2.get_ydata(),a.Q2))\n",
    "        display.clear_output(wait=True)\n",
    "        display.display(plt.gcf())\n",
    "        yield env.timeout(1)\n",
    "        \n",
    "def heaters(env,a):\n",
    "    while True:\n",
    "        try:\n",
    "            a.Q1 = 100 if env.now < 100 else 0\n",
    "            a.Q2 = 0\n",
    "            yield env.timeout(10)\n",
    "        except:\n",
    "            a.stop()\n",
    "            plt.close()\n",
    "        \n",
    "a = TCLab()\n",
    "a.start()\n",
    "\n",
    "env = simpy.rt.RealtimeEnvironment()\n",
    "env.process(heaters(env,a))\n",
    "env.process(rt_plotter(env,a))\n",
    "env.run(until=tf)\n",
    "\n",
    "# shutdown TC Lab and close the plot\n",
    "a.stop()\n",
    "plt.close()"
   ]
  },
  {
   "cell_type": "code",
   "execution_count": null,
   "metadata": {
    "collapsed": true
   },
   "outputs": [],
   "source": []
  }
 ],
 "metadata": {
  "kernelspec": {
   "display_name": "Python 3",
   "language": "python",
   "name": "python3"
  },
  "language_info": {
   "codemirror_mode": {
    "name": "ipython",
    "version": 3
   },
   "file_extension": ".py",
   "mimetype": "text/x-python",
   "name": "python",
   "nbconvert_exporter": "python",
   "pygments_lexer": "ipython3",
   "version": "3.6.1"
  }
 },
 "nbformat": 4,
 "nbformat_minor": 2
}
