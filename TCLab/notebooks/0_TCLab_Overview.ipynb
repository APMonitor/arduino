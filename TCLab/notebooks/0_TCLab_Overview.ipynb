{
 "cells": [
  {
   "cell_type": "markdown",
   "metadata": {},
   "source": [
    "# 0_TClab_Overview"
   ]
  },
  {
   "cell_type": "markdown",
   "metadata": {},
   "source": [
    "## Imports"
   ]
  },
  {
   "cell_type": "code",
   "execution_count": 1,
   "metadata": {
    "collapsed": true
   },
   "outputs": [],
   "source": [
    "import time\n",
    "import sys\n",
    "\n",
    "sys.path.append(\"../TCLab\")\n",
    "from TCLab import TCLab"
   ]
  },
  {
   "cell_type": "markdown",
   "metadata": {},
   "source": [
    "## Connecting"
   ]
  },
  {
   "cell_type": "code",
   "execution_count": 2,
   "metadata": {},
   "outputs": [
    {
     "name": "stdout",
     "output_type": "stream",
     "text": [
      "Opening connection\n",
      "TCLab connected via Arduino on port /dev/tty.wchusbserial1410\n"
     ]
    }
   ],
   "source": [
    "a = TCLab()"
   ]
  },
  {
   "cell_type": "markdown",
   "metadata": {},
   "source": [
    "## Reading Temperatures"
   ]
  },
  {
   "cell_type": "code",
   "execution_count": 3,
   "metadata": {},
   "outputs": [
    {
     "data": {
      "text/plain": [
       "'TClab Firmware Version 0.03'"
      ]
     },
     "execution_count": 3,
     "metadata": {},
     "output_type": "execute_result"
    }
   ],
   "source": [
    "a.version"
   ]
  },
  {
   "cell_type": "code",
   "execution_count": 4,
   "metadata": {},
   "outputs": [
    {
     "name": "stdout",
     "output_type": "stream",
     "text": [
      "Temperature 1: 24.77 C\n",
      "Temperature 2: 24.12 C\n"
     ]
    }
   ],
   "source": [
    "print(\"Temperature 1: {0:0.2f} C\".format(a.T1))\n",
    "print(\"Temperature 2: {0:0.2f} C\".format(a.T2))"
   ]
  },
  {
   "cell_type": "markdown",
   "metadata": {},
   "source": [
    "## Setting Heaters"
   ]
  },
  {
   "cell_type": "code",
   "execution_count": 5,
   "metadata": {},
   "outputs": [
    {
     "name": "stdout",
     "output_type": "stream",
     "text": [
      "Starting Temperature 1: 24.77 C\n",
      "Starting Temperature 2: 23.80 C\n",
      "\n",
      "Set Heater 1: 100 mV\n",
      "Set Heater 2: 50 mV\n",
      "\n",
      "Heat for 30 seconds\n",
      "..............................\n",
      "Turn Heaters Off\n",
      "\n",
      "Final Temperature 1: 32.18 C\n",
      "Final Temperature 2: 27.99 C\n"
     ]
    }
   ],
   "source": [
    "print(\"Starting Temperature 1: {0:0.2f} C\".format(a.T1))\n",
    "print(\"Starting Temperature 2: {0:0.2f} C\".format(a.T2))\n",
    "\n",
    "Theat = 30\n",
    "a.Q1 = 100\n",
    "a.Q2 =  50\n",
    "\n",
    "print()\n",
    "print(\"Set Heater 1:\", a.Q1, \"mV\")\n",
    "print(\"Set Heater 2:\", a.Q2, \"mV\")\n",
    "\n",
    "print(\"\\nHeat for\", Theat, \"seconds\")\n",
    "for k in range(0,int(Theat)):\n",
    "    print('.',end='',flush=True)\n",
    "    time.sleep(1)\n",
    "print()\n",
    "\n",
    "print(\"Turn Heaters Off\")\n",
    "a.Q1 = 0\n",
    "a.Q2 = 0\n",
    "\n",
    "print()\n",
    "print(\"Final Temperature 1: {0:0.2f} C\".format(a.T1))\n",
    "print(\"Final Temperature 2: {0:0.2f} C\".format(a.T2))"
   ]
  },
  {
   "cell_type": "markdown",
   "metadata": {},
   "source": [
    "## Logging Data"
   ]
  },
  {
   "cell_type": "code",
   "execution_count": 6,
   "metadata": {},
   "outputs": [
    {
     "name": "stdout",
     "output_type": "stream",
     "text": [
      "Set Heater 1 to 100 mV\n",
      "Set Heater 2 to 50 mV\n",
      "     0 sec:   T1 = 37.98 C    T2 = 31.86 C\n",
      "     5 sec:   T1 = 38.62 C    T2 = 32.50 C\n",
      "    10 sec:   T1 = 39.27 C    T2 = 32.82 C\n",
      "    15 sec:   T1 = 40.56 C    T2 = 33.47 C\n",
      "    20 sec:   T1 = 42.49 C    T2 = 34.43 C\n",
      "    25 sec:   T1 = 44.10 C    T2 = 35.72 C\n",
      "    30 sec:   T1 = 46.36 C    T2 = 37.98 C\n",
      "    35 sec:   T1 = 47.65 C    T2 = 37.66 C\n",
      "    40 sec:   T1 = 49.26 C    T2 = 38.62 C\n",
      "    45 sec:   T1 = 50.87 C    T2 = 39.91 C\n",
      "    50 sec:   T1 = 52.80 C    T2 = 41.20 C\n",
      "    55 sec:   T1 = 54.09 C    T2 = 42.49 C\n",
      "    60 sec:   T1 = 56.03 C    T2 = 43.13 C\n",
      "\n",
      "Set Heater 1 to 0 mV\n",
      "Set Heater 2 to 0 mV\n",
      "    65 sec:   T1 = 57.31 C    T2 = 44.42 C\n",
      "    70 sec:   T1 = 58.93 C    T2 = 45.39 C\n",
      "    75 sec:   T1 = 59.89 C    T2 = 46.36 C\n",
      "    80 sec:   T1 = 60.54 C    T2 = 47.00 C\n",
      "    85 sec:   T1 = 60.54 C    T2 = 47.32 C\n",
      "    90 sec:   T1 = 60.54 C    T2 = 47.65 C\n",
      "    95 sec:   T1 = 60.21 C    T2 = 47.65 C\n",
      "   100 sec:   T1 = 59.57 C    T2 = 47.97 C\n",
      "   105 sec:   T1 = 58.93 C    T2 = 47.65 C\n",
      "   110 sec:   T1 = 58.60 C    T2 = 47.32 C\n",
      "   115 sec:   T1 = 57.96 C    T2 = 47.32 C\n",
      "   120 sec:   T1 = 56.99 C    T2 = 47.00 C\n"
     ]
    },
    {
     "data": {
      "text/plain": [
       "'Sleep'"
      ]
     },
     "execution_count": 6,
     "metadata": {},
     "output_type": "execute_result"
    }
   ],
   "source": [
    "a.start()\n",
    "\n",
    "a.Q1 = 100\n",
    "a.Q2 =  50\n",
    "print(\"Set Heater 1 to {0:d} mV\".format(a.Q1))\n",
    "print(\"Set Heater 2 to {0:d} mV\".format(a.Q2))\n",
    "sfmt = \"   {0:3d} sec:   T1 = {1:0.2f} C    T2 = {2:0.2f} C\"\n",
    "for i in range(0,65,5):\n",
    "    print(sfmt.format(i, a.T1, a.T2), flush=True)\n",
    "    time.sleep(5)\n",
    "\n",
    "a.Q1 = 0\n",
    "a.Q2 = 0\n",
    "print()\n",
    "print(\"Set Heater 1 to {0:d} mV\".format(a.Q1))\n",
    "print(\"Set Heater 2 to {0:d} mV\".format(a.Q2))\n",
    "for i in range(65,125,5):\n",
    "    print(sfmt.format(i, a.T1, a.T2), flush=True)\n",
    "    time.sleep(5)\n",
    "    \n",
    "a.stop()"
   ]
  },
  {
   "cell_type": "markdown",
   "metadata": {},
   "source": [
    "## Plotting"
   ]
  },
  {
   "cell_type": "code",
   "execution_count": 7,
   "metadata": {},
   "outputs": [
    {
     "data": {
      "image/png": "[encoded data removed]",
      "text/plain": [
       "<matplotlib.figure.Figure at 0x121b5de10>"
      ]
     },
     "metadata": {},
     "output_type": "display_data"
    }
   ],
   "source": [
    "%matplotlib inline\n",
    "a.plot()"
   ]
  },
  {
   "cell_type": "code",
   "execution_count": null,
   "metadata": {
    "collapsed": true
   },
   "outputs": [],
   "source": []
  }
 ],
 "metadata": {
  "kernelspec": {
   "display_name": "Python 3",
   "language": "python",
   "name": "python3"
  },
  "language_info": {
   "codemirror_mode": {
    "name": "ipython",
    "version": 3
   },
   "file_extension": ".py",
   "mimetype": "text/x-python",
   "name": "python",
   "nbconvert_exporter": "python",
   "pygments_lexer": "ipython3",
   "version": "3.6.1"
  }
 },
 "nbformat": 4,
 "nbformat_minor": 2
}
