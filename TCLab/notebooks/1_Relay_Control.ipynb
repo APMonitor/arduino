{
 "cells": [
  {
   "cell_type": "markdown",
   "metadata": {
    "deletable": true,
    "editable": true
   },
   "source": [
    "# 1_Relay_Control_using_Simpy"
   ]
  },
  {
   "cell_type": "code",
   "execution_count": 21,
   "metadata": {
    "collapsed": false,
    "deletable": true,
    "editable": true
   },
   "outputs": [
    {
     "name": "stdout",
     "output_type": "stream",
     "text": [
      "Opening connection\n",
      "TCLab connected via Arduino on port /dev/tty.wchusbserial1410\n",
      "   0.00    100.00    24.77\n",
      "   5.00    100.00    24.77\n",
      "  10.00    100.00    24.77\n",
      "  15.00    100.00    25.41\n",
      "  20.00    100.00    26.05\n",
      "  25.00    100.00    27.67\n",
      "  30.00    100.00    29.60\n",
      "  35.00    100.00    31.21\n",
      "  40.00    100.00    33.14\n",
      "  45.00    100.00    35.08\n",
      "  50.00    100.00    37.01\n",
      "  55.00    100.00    39.27\n",
      "  60.00      0.00    41.52\n",
      "  65.00      0.00    42.81\n",
      "  70.00      0.00    44.42\n",
      "  75.00      0.00    45.39\n",
      "  80.00      0.00    45.71\n",
      "  85.00      0.00    46.04\n",
      "  90.00      0.00    46.04\n",
      "  95.00      0.00    46.36\n",
      " 100.00      0.00    45.71\n",
      " 105.00      0.00    45.71\n",
      " 110.00      0.00    45.39\n",
      " 115.00      0.00    45.07\n",
      " 120.00      0.00    44.75\n",
      " 125.00      0.00    44.10\n",
      " 130.00      0.00    43.78\n",
      " 135.00      0.00    43.13\n",
      " 140.00      0.00    42.81\n",
      " 145.00      0.00    42.49\n",
      " 150.00      0.00    42.17\n",
      " 155.00      0.00    41.52\n",
      " 160.00      0.00    40.88\n",
      " 165.00      0.00    40.56\n",
      " 170.00      0.00    39.91\n",
      " 175.00    100.00    39.59\n",
      " 180.00    100.00    39.27\n",
      " 185.00    100.00    39.91\n",
      " 190.00      0.00    40.88\n",
      " 195.00      0.00    41.20\n"
     ]
    },
    {
     "data": {
      "text/plain": [
       "'Stop'"
      ]
     },
     "execution_count": 21,
     "metadata": {},
     "output_type": "execute_result"
    }
   ],
   "source": [
    "import simpy.rt\n",
    "import sys\n",
    "sys.path.append(\"../TCLab\")\n",
    "from TCLab import TCLab\n",
    "\n",
    "env = simpy.rt.RealtimeEnvironment(strict=False)\n",
    "a = TCLab()\n",
    "a.start()\n",
    "\n",
    "SP = 40.0\n",
    "def control(env):\n",
    "    while True:\n",
    "        a.Q1 = 100 if a.T1 <= SP else 0\n",
    "        yield env.timeout(1)\n",
    "         \n",
    "def reporter(env):\n",
    "    while True:\n",
    "        print('{0:7.2f}   {1:7.2f}  {2:7.2f}'.format(env.now, a.Q1, a.T1), flush=True)\n",
    "        yield env.timeout(5)\n",
    "        \n",
    "env.process(control(env))\n",
    "env.process(reporter(env))\n",
    "env.run(until=200)\n",
    "\n",
    "# shutdown heater\n",
    "a.stop()"
   ]
  },
  {
   "cell_type": "code",
   "execution_count": 7,
   "metadata": {
    "collapsed": false,
    "deletable": true,
    "editable": true
   },
   "outputs": [
    {
     "data": {
      "image/png": "[encoded data removed]",
      "text/plain": [
       "<matplotlib.figure.Figure at 0x1215f2b70>"
      ]
     },
     "metadata": {},
     "output_type": "display_data"
    }
   ],
   "source": [
    "%matplotlib inline\n",
    "a.plot()"
   ]
  },
  {
   "cell_type": "code",
   "execution_count": 5,
   "metadata": {
    "collapsed": false,
    "deletable": true,
    "editable": true
   },
   "outputs": [
    {
     "data": {
      "text/plain": [
       "19"
      ]
     },
     "execution_count": 5,
     "metadata": {},
     "output_type": "execute_result"
    }
   ],
   "source": [
    "import random\n",
    "random.randint(10,22)"
   ]
  },
  {
   "cell_type": "code",
   "execution_count": 8,
   "metadata": {
    "collapsed": true,
    "deletable": true,
    "editable": true
   },
   "outputs": [],
   "source": [
    "import sys\n",
    "\n",
    "sys.path.append(\"../TCLab\")\n",
    "from TCLab import TCLab\n"
   ]
  },
  {
   "cell_type": "code",
   "execution_count": 9,
   "metadata": {
    "collapsed": false,
    "deletable": true,
    "editable": true
   },
   "outputs": [
    {
     "name": "stdout",
     "output_type": "stream",
     "text": [
      "Opening connection\n",
      "TCLab connected via Arduino on port /dev/tty.wchusbserial1410\n"
     ]
    }
   ],
   "source": [
    "a = TCLab()\n"
   ]
  },
  {
   "cell_type": "code",
   "execution_count": 11,
   "metadata": {
    "collapsed": false,
    "deletable": true,
    "editable": true
   },
   "outputs": [
    {
     "data": {
      "text/plain": [
       "22.83"
      ]
     },
     "execution_count": 11,
     "metadata": {},
     "output_type": "execute_result"
    }
   ],
   "source": [
    "a.T1"
   ]
  },
  {
   "cell_type": "code",
   "execution_count": 12,
   "metadata": {
    "collapsed": false,
    "deletable": true,
    "editable": true
   },
   "outputs": [
    {
     "data": {
      "text/plain": [
       "22.19"
      ]
     },
     "execution_count": 12,
     "metadata": {},
     "output_type": "execute_result"
    }
   ],
   "source": [
    "a.T2"
   ]
  },
  {
   "cell_type": "code",
   "execution_count": 13,
   "metadata": {
    "collapsed": true,
    "deletable": true,
    "editable": true
   },
   "outputs": [],
   "source": [
    "a.Q1 = 150"
   ]
  },
  {
   "cell_type": "code",
   "execution_count": 14,
   "metadata": {
    "collapsed": false,
    "deletable": true,
    "editable": true
   },
   "outputs": [
    {
     "data": {
      "text/plain": [
       "25.09"
      ]
     },
     "execution_count": 14,
     "metadata": {},
     "output_type": "execute_result"
    }
   ],
   "source": [
    "a.T1"
   ]
  },
  {
   "cell_type": "code",
   "execution_count": 17,
   "metadata": {
    "collapsed": false,
    "deletable": true,
    "editable": true
   },
   "outputs": [],
   "source": [
    "import time\n"
   ]
  },
  {
   "cell_type": "code",
   "execution_count": 18,
   "metadata": {
    "collapsed": false,
    "deletable": true,
    "editable": true
   },
   "outputs": [
    {
     "name": "stdout",
     "output_type": "stream",
     "text": [
      "50.55\n",
      "51.84\n",
      "53.13\n",
      "54.41\n",
      "55.38\n",
      "56.67\n",
      "57.96\n",
      "58.93\n",
      "60.21\n",
      "61.5\n"
     ]
    }
   ],
   "source": [
    "for k in range(0,10):\n",
    "    print(a.T1)\n",
    "    time.sleep(2)"
   ]
  },
  {
   "cell_type": "code",
   "execution_count": 19,
   "metadata": {
    "collapsed": true,
    "deletable": true,
    "editable": true
   },
   "outputs": [],
   "source": [
    "a.Q1 = 0\n"
   ]
  },
  {
   "cell_type": "code",
   "execution_count": null,
   "metadata": {
    "collapsed": true,
    "deletable": true,
    "editable": true
   },
   "outputs": [],
   "source": []
  }
 ],
 "metadata": {
  "kernelspec": {
   "display_name": "Python 3",
   "language": "python",
   "name": "python3"
  },
  "language_info": {
   "codemirror_mode": {
    "name": "ipython",
    "version": 3
   },
   "file_extension": ".py",
   "mimetype": "text/x-python",
   "name": "python",
   "nbconvert_exporter": "python",
   "pygments_lexer": "ipython3",
   "version": "3.6.1"
  }
 },
 "nbformat": 4,
 "nbformat_minor": 2
}
