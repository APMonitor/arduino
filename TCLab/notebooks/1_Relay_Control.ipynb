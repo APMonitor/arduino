{
 "cells": [
  {
   "cell_type": "markdown",
   "metadata": {},
   "source": [
    "# 1_Relay_Control_using_Simpy"
   ]
  },
  {
   "cell_type": "code",
   "execution_count": 1,
   "metadata": {},
   "outputs": [
    {
     "name": "stdout",
     "output_type": "stream",
     "text": [
      "Opening connection\n",
      "TCLab connected via Arduino on port /dev/tty.wchusbserial1410\n",
      "   0.00      0.00    44.10\n",
      "   5.00      0.00    44.10\n",
      "  10.00      0.00    43.46\n",
      "  15.00      0.00    43.13\n",
      "  20.00      0.00    42.49\n",
      "  25.00      0.00    42.17\n",
      "  30.00      0.00    41.52\n",
      "  35.00      0.00    41.20\n",
      "  40.00      0.00    40.88\n",
      "  45.00      0.00    40.23\n",
      "  50.00    100.00    39.91\n",
      "  55.00    100.00    39.59\n",
      "  60.00    100.00    39.91\n",
      "  65.00      0.00    40.56\n",
      "  70.00      0.00    41.20\n",
      "  75.00      0.00    41.52\n",
      "  80.00      0.00    41.52\n",
      "  85.00      0.00    41.85\n",
      "  90.00      0.00    41.52\n",
      "  95.00      0.00    41.52\n",
      " 100.00      0.00    41.20\n",
      " 105.00      0.00    40.88\n",
      " 110.00      0.00    40.56\n",
      " 115.00      0.00    40.23\n",
      " 120.00      0.00    39.91\n",
      " 125.00    100.00    39.91\n",
      " 130.00    100.00    39.91\n",
      " 135.00      0.00    40.56\n",
      " 140.00      0.00    41.20\n",
      " 145.00      0.00    41.20\n",
      " 150.00      0.00    41.52\n",
      " 155.00      0.00    41.52\n",
      " 160.00      0.00    41.20\n",
      " 165.00      0.00    41.20\n",
      " 170.00      0.00    40.88\n",
      " 175.00      0.00    40.56\n",
      " 180.00      0.00    40.23\n",
      " 185.00    100.00    39.91\n",
      " 190.00    100.00    39.91\n",
      " 195.00    100.00    40.23\n"
     ]
    },
    {
     "data": {
      "text/plain": [
       "'Sleep'"
      ]
     },
     "execution_count": 1,
     "metadata": {},
     "output_type": "execute_result"
    }
   ],
   "source": [
    "import simpy.rt\n",
    "import sys\n",
    "\n",
    "sys.path.append(\"../TCLab\")\n",
    "from TCLab import TCLab\n",
    "\n",
    "env = simpy.rt.RealtimeEnvironment(strict=False)\n",
    "\n",
    "a = TCLab()\n",
    "a.start()\n",
    "\n",
    "SP = 40.0\n",
    "def control(env):\n",
    "    while True:\n",
    "        a.Q1 = 100 if a.T1 <= SP else 0\n",
    "        yield env.timeout(1)\n",
    "         \n",
    "def reporter(env):\n",
    "    while True:\n",
    "        print('{0:7.2f}   {1:7.2f}  {2:7.2f}'.format(env.now, a.Q1, a.T1), flush=True)\n",
    "        yield env.timeout(5)\n",
    "        \n",
    "env.process(control(env))\n",
    "env.process(reporter(env))\n",
    "env.run(until=200)\n",
    "\n",
    "# shutdown heater\n",
    "a.stop()"
   ]
  },
  {
   "cell_type": "code",
   "execution_count": 2,
   "metadata": {},
   "outputs": [
    {
     "data": {
      "image/png": "[encoded data removed]",
      "text/plain": [
       "<matplotlib.figure.Figure at 0x10b7bc390>"
      ]
     },
     "metadata": {},
     "output_type": "display_data"
    }
   ],
   "source": [
    "%matplotlib inline\n",
    "a.plot()"
   ]
  },
  {
   "cell_type": "code",
   "execution_count": null,
   "metadata": {
    "collapsed": true
   },
   "outputs": [],
   "source": []
  }
 ],
 "metadata": {
  "kernelspec": {
   "display_name": "Python 3",
   "language": "python",
   "name": "python3"
  },
  "language_info": {
   "codemirror_mode": {
    "name": "ipython",
    "version": 3
   },
   "file_extension": ".py",
   "mimetype": "text/x-python",
   "name": "python",
   "nbconvert_exporter": "python",
   "pygments_lexer": "ipython3",
   "version": "3.6.1"
  }
 },
 "nbformat": 4,
 "nbformat_minor": 2
}
