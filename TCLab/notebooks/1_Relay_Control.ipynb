{
 "cells": [
  {
   "cell_type": "markdown",
   "metadata": {},
   "source": [
    "# 1 Relay Control using Simpy"
   ]
  },
  {
   "cell_type": "markdown",
   "metadata": {},
   "source": [
    "## Why Simpy?\n",
    "\n",
    "[Simpy](https://simpy.readthedocs.io/en/latest/) is a python package for discrete event simulation package. The package includes tools for controlling event driven models. Simpy also includes a [real-time simulation environment[(http://simpy.readthedocs.io/en/latest/topical_guides/real-time-simulations.html) which makes it dead simple to construct process control algorithms that interface with the Temperature Control Lab."
   ]
  },
  {
   "cell_type": "code",
   "execution_count": 12,
   "metadata": {
    "collapsed": false
   },
   "outputs": [
    {
     "name": "stdout",
     "output_type": "stream",
     "text": [
      "Opening connection\n",
      "TCLab connected via Arduino on port /dev/tty.wchusbserial1410\n",
      "  0  T1= 25.4 T2= 23.5\n",
      "  5  T1= 25.4 T2= 23.5\n",
      " 10  T1= 25.7 T2= 23.5\n",
      " 15  T1= 25.7 T2= 23.5\n",
      " 20  T1= 26.1 T2= 23.8\n",
      " 25  T1= 26.1 T2= 23.5\n",
      " 30  T1= 25.7 T2= 23.5\n",
      " 35  T1= 26.1 T2= 23.8\n",
      " 40  T1= 26.1 T2= 23.8\n",
      " 45  T1= 26.1 T2= 23.5\n",
      " 50  T1= 26.1 T2= 23.5\n",
      " 55  T1= 26.1 T2= 23.8\n",
      " 60  T1= 25.7 T2= 23.8\n",
      " 65  T1= 26.1 T2= 23.8\n",
      " 70  T1= 25.7 T2= 23.5\n",
      " 75  T1= 25.7 T2= 23.8\n",
      " 80  T1= 26.1 T2= 23.8\n",
      " 85  T1= 25.7 T2= 23.5\n",
      " 90  T1= 26.1 T2= 23.8\n",
      " 95  T1= 25.7 T2= 23.8\n"
     ]
    },
    {
     "data": {
      "text/plain": [
       "<bound method TCLab.stop of <TCLab.TCLab object at 0x122b84a90>>"
      ]
     },
     "execution_count": 12,
     "metadata": {},
     "output_type": "execute_result"
    }
   ],
   "source": [
    "import simpy.rt\n",
    "import sys\n",
    "sys.path.append(\"../TCLab\")\n",
    "from TCLab import TCLab\n",
    "\n",
    "# control coroutine\n",
    "def observe(env):\n",
    "    while True:\n",
    "        print('{0:3d}  T1={1:5.1f} T2={2:5.1f}'.format(env.now,a.T1,a.T2))\n",
    "        yield env.timeout(5)\n",
    "\n",
    "# start up TC Lab\n",
    "a = TCLab()\n",
    "a.start\n",
    "\n",
    "# turn heater to 100\n",
    "a.Q1 = 100\n",
    "        \n",
    "# let simpy handle all of the timing and syncronization stuff\n",
    "env = simpy.rt.RealtimeEnvironment(strict=False)\n",
    "env.process(observe(env))\n",
    "env.run(until=100)\n",
    "\n",
    "# shut down TCLab\n",
    "a.stop"
   ]
  },
  {
   "cell_type": "markdown",
   "metadata": {
    "deletable": true,
    "editable": true
   },
   "source": [
    "## Simple Relay Control\n",
    "\n",
    "The following code implements relay control for temperature T1 on the Temperature Control Lab.\n",
    "\n",
    "\\begin{align}\n",
    "Q(t) & = \\begin{cases} \n",
    "    Q^{max} &\\text{if $T \\leq T_{setpoint}$}\\\\\n",
    "    0       & \\text{if $T \\geq T_{setpoint}$}\n",
    "    \\end{cases}\n",
    "\\end{align}\n",
    "\n",
    "This is simple to implement, in fact it is just one line of code in the following cell. Adjust `Tsetpoint` to a desired setpoint value, then run the cell.\n",
    "\n",
    "This cell also adds a few extra features. The most important is to use try/except to catch keyboard interrupts. (Esc - i - i in Jupyter notebooks). If the cell is interrupted, then the except branch makes sure the TCLab is shut down upon exit.\n",
    "\n",
    "The second feature is to break up the control and reporting functions. In this case the control loop has been adjusted to sample every second, but reporter only updates every five seconds. The print statement uses a few features to keep the display to a single line, to flush the print buffer to Jupyter so that it is seen immediately. These are two useful tricks to know when using Jupyter for interactive work."
   ]
  },
  {
   "cell_type": "code",
   "execution_count": 4,
   "metadata": {
    "collapsed": false,
    "deletable": true,
    "editable": true,
    "scrolled": false
   },
   "outputs": [
    {
     "name": "stdout",
     "output_type": "stream",
     "text": [
      "Opening connection\n",
      "TCLab connected via Arduino on port /dev/tty.wchusbserial1410\n",
      "\n",
      "  Time(sec)   Heater(mV)   Temp(deg C)\n",
      "   155.00       100.00       39.91\r"
     ]
    },
    {
     "data": {
      "image/png": "[encoded data removed]",
      "text/plain": [
       "<matplotlib.figure.Figure at 0x1205363c8>"
      ]
     },
     "metadata": {},
     "output_type": "display_data"
    }
   ],
   "source": [
    "%matplotlib inline\n",
    "\n",
    "import simpy.rt\n",
    "import sys\n",
    "sys.path.append(\"../TCLab\")\n",
    "from TCLab import TCLab\n",
    "\n",
    "# controller coroutine with interrupt for premature ending\n",
    "def control(env):\n",
    "    while True:\n",
    "        try:\n",
    "            a.Q1 = 100 if a.T1 <= Tsetpoint else 0\n",
    "            yield env.timeout(1)\n",
    "        except:\n",
    "            a.stop()\n",
    "            \n",
    "# reporter coroutine to help us monitor status\n",
    "def reporter(env):\n",
    "    print(\"\\n  Time(sec)   Heater(mV)   Temp(deg C)\")\n",
    "    sfmt = '  {0:7.2f}      {1:7.2f}     {2:7.2f}'\n",
    "    while True:\n",
    "        print(sfmt.format(env.now, a.Q1, a.T1), flush=True, end='\\r')\n",
    "        yield env.timeout(5)\n",
    "\n",
    "# fix the setpoint\n",
    "Tsetpoint = 40.0\n",
    "\n",
    "# start up the temperature control lab\n",
    "a = TCLab()\n",
    "a.start()\n",
    "\n",
    "# create the real-time simulation environment\n",
    "env = simpy.rt.RealtimeEnvironment(strict=False)\n",
    "env.process(control(env))\n",
    "env.process(reporter(env))\n",
    "env.run(until=160)\n",
    "\n",
    "# shutdown \n",
    "a.stop()\n",
    "a.plot()"
   ]
  },
  {
   "cell_type": "markdown",
   "metadata": {
    "collapsed": true,
    "deletable": true,
    "editable": true
   },
   "source": [
    "## Relay Control with Hysteresis\n",
    "\n",
    "One of the issues with simple relay control is the potential for 'chattering', which are situations where the manipulated variable (in this case heater power) rapid on-and-off switching. This can be caused by systems that are highly response to control inputs or where the sensor measurements carry significant noise.\n",
    "\n",
    "The typical home thermostat used for furnace control incorporates a simple but highly effective solution to the chattering period. The idea is to intentially overshoot the setpoint. Then, after the control switches state, there will be at least a short period of time where no further control action should be necessary. The control algorithm can be written\n",
    "\n",
    "\\begin{align}\n",
    "Q(t) & = \\begin{cases} \n",
    "    Q^{max} &\\text{if $T \\leq T_{Setpoint} + \\frac{h}{2}$}\\\\\n",
    "    0       & \\text{if $T \\geq T_{Setpoint} - \\frac{h}{2}$}\n",
    "    \\end{cases}\n",
    "\\end{align}\n",
    "\n",
    "where $h$ is the *tolerance* or *hysteresis*. For home heating systems a typical value is 0.5 to 1 degree F. This image shows how hystersis was adjusted on a typical home thermostat in common usage in the late 20th century.\n",
    "\n",
    "<img src=\"../images/515px-Honeywell_thermostat_open.jpg\" style=\"width: 300px;\"></img>\n",
    "\n",
    "Image by <a href=\"//commons.wikimedia.org/wiki/User:Vdegroot\" title=\"User:Vdegroot\">Vincent de Groot</a> - <a rel=\"nofollow\" class=\"external free\" href=\"http://www.videgro.net\">http://www.videgro.net</a> - <span class=\"int-own-work\" lang=\"en\">Own work</span>, <a href=\"http://creativecommons.org/licenses/by/2.5\" title=\"Creative Commons Attribution 2.5\">CC BY 2.5</a>, <a href=\"https://commons.wikimedia.org/w/index.php?curid=902832\">Link</a>\n",
    "\n",
    "The furnance is turned on for temperatures below the range \n",
    "\n",
    "\\begin{align}\n",
    "T_{Setpoint} - \\frac{h}{2} \\leq T \\leq T_{Setpoint} + \\frac{h}{2}\n",
    "\\end{align}\n",
    "\n",
    "and is turned for temperatures above the range. Within the range, however, the furnance may be on or off, depending on what happened at the last decision point.\n",
    "\n",
    "\n",
    "The following code implements relay control with hystersis."
   ]
  },
  {
   "cell_type": "code",
   "execution_count": 8,
   "metadata": {
    "collapsed": false
   },
   "outputs": [
    {
     "name": "stdout",
     "output_type": "stream",
     "text": [
      "Opening connection\n",
      "TCLab connected via Arduino on port /dev/tty.wchusbserial1410\n",
      "\n",
      "  Time(sec)   Heater(mV)   Temp(deg C)\n",
      "   295.00         0.00       42.81\r"
     ]
    },
    {
     "data": {
      "image/png": "[encoded data removed]",
      "text/plain": [
       "<matplotlib.figure.Figure at 0x122b6b128>"
      ]
     },
     "metadata": {},
     "output_type": "display_data"
    }
   ],
   "source": [
    "%matplotlib inline\n",
    "\n",
    "import simpy.rt\n",
    "import sys\n",
    "sys.path.append(\"../TCLab\")\n",
    "from TCLab import TCLab\n",
    "\n",
    "# controller coroutine with interrupt for premature ending\n",
    "def control(env):\n",
    "    while True:\n",
    "        try:\n",
    "            a.Q1 = 100 if (a.T1 <= Tsetpoint - h/2) else a.Q1\n",
    "            a.Q1 = 0 if (a.T1 >= Tsetpoint + h/2) else a.Q1\n",
    "            yield env.timeout(1)\n",
    "        except:\n",
    "            a.stop()\n",
    "            \n",
    "# reporter coroutine to help us monitor status\n",
    "def reporter(env):\n",
    "    print(\"\\n  Time(sec)   Heater(mV)   Temp(deg C)\")\n",
    "    sfmt = '  {0:7.2f}      {1:7.2f}     {2:7.2f}'\n",
    "    while True:\n",
    "        print(sfmt.format(env.now, a.Q1, a.T1), flush=True, end='\\r')\n",
    "        yield env.timeout(5)\n",
    "\n",
    "# fix the setpoint\n",
    "Tsetpoint = 40.0\n",
    "h = 0.5\n",
    "\n",
    "# start up the temperature control lab\n",
    "a = TCLab()\n",
    "a.start()\n",
    "\n",
    "# create the real-time simulation environment\n",
    "env = simpy.rt.RealtimeEnvironment(strict=False)\n",
    "env.process(control(env))\n",
    "env.process(reporter(env))\n",
    "env.run(until=300)\n",
    "\n",
    "# shutdown \n",
    "a.stop()\n",
    "a.plot()"
   ]
  },
  {
   "cell_type": "markdown",
   "metadata": {},
   "source": [
    "## Exercises\n",
    "\n",
    "1. Examining the closed-loop responses, it's obvious that the heater is oversized for the purpose of control at 40 deg C.  Try other values for $Q^{\\max}$ to see if you can improve closed-loop performance.\n",
    "\n",
    "2. What is the effect of sample time on control performance? What happens if you make the controller sample time longer?\n",
    "\n",
    "3. In a new cell, create a modification of the script to include a change in setpoint from 40 deg C to 50 deg C at the 300 second mark. Run the experiment for at least 10 minutes to see the full effect."
   ]
  },
  {
   "cell_type": "code",
   "execution_count": null,
   "metadata": {
    "collapsed": true
   },
   "outputs": [],
   "source": []
  }
 ],
 "metadata": {
  "kernelspec": {
   "display_name": "Python 3",
   "language": "python",
   "name": "python3"
  },
  "language_info": {
   "codemirror_mode": {
    "name": "ipython",
    "version": 3
   },
   "file_extension": ".py",
   "mimetype": "text/x-python",
   "name": "python",
   "nbconvert_exporter": "python",
   "pygments_lexer": "ipython3",
   "version": "3.6.1"
  }
 },
 "nbformat": 4,
 "nbformat_minor": 2
}
