{
 "cells": [
  {
   "cell_type": "markdown",
   "metadata": {},
   "source": [
    "Single Heater/Sensor\n",
    "\n",
    "\\begin{align}\n",
    "\\rho C^H_p\\frac{dT^H_1}{dt} & = U_1(T_{env} - T^H_1) + \\alpha Q_1  \\\\\n",
    "\\rho C^S_p\\frac{dT^S_1}{dt} & = U_2(T^H_1 - T^S_1) + U_3(T_{env} - T^S_1)\n",
    "\\end{align}\n",
    "\n",
    "Standard Linear Form\n",
    "\n",
    "\\begin{align}\n",
    "\\frac{dT^H_1}{dt} & = \\frac{U_1}{\\rho C^H_p}(T_{env} - T^H_1) + \\frac{\\alpha}{\\rho C^H_p} Q_1  \\\\\n",
    "\\frac{dT^S_1}{dt} & = \\frac{U_2}{\\rho C^S_p}(T^H_1 - T^S_1) + \\frac{U_3}{\\rho C^S_p}(T_{env} - T^S_1)\n",
    "\\end{align}\n",
    "\n",
    "\n",
    "Multivariable Heater/Sensor\n",
    "\n",
    "\\begin{align}\n",
    "\\rho C^H_p\\frac{dT^H_1}{dt} & = U_1(T_{env} - T^H_1)  + U_4(T^H_2 - T^H_1) + \\alpha Q_1\\\\\n",
    "\\rho C^S_p\\frac{dT^S_1}{dt} & = U_2(T^H_1 - T^S_1) + U_3(T_{env} - T^S_1)\\\\\n",
    "\\rho C^H_p\\frac{dT^H_2}{dt} & = U_1(T_{env} - T^H_2) + U_4(T^H_1 - T^H_2) + \\alpha Q_2  \\\\\n",
    "\\rho C^S_p\\frac{dT^S_2}{dt} & = U_2(T^H_2 - T^S_2) + U_3(T_{env} - T^S_2)\n",
    "\\end{align}\n"
   ]
  },
  {
   "cell_type": "code",
   "execution_count": null,
   "metadata": {
    "collapsed": true
   },
   "outputs": [],
   "source": []
  }
 ],
 "metadata": {
  "kernelspec": {
   "display_name": "Python 3",
   "language": "python",
   "name": "python3"
  },
  "language_info": {
   "codemirror_mode": {
    "name": "ipython",
    "version": 3
   },
   "file_extension": ".py",
   "mimetype": "text/x-python",
   "name": "python",
   "nbconvert_exporter": "python",
   "pygments_lexer": "ipython3",
   "version": "3.6.1"
  }
 },
 "nbformat": 4,
 "nbformat_minor": 2
}
