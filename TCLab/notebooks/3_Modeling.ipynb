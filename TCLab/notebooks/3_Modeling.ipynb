{
 "cells": [
  {
   "cell_type": "markdown",
   "metadata": {},
   "source": [
    "Single Heater/Sensor\n",
    "\n",
    "\\begin{align}\n",
    "\\rho C^H_p\\frac{dT^H_1}{dt} & = U_1(T_{env} - T^H_1) + \\alpha Q_1  \\\\\n",
    "\\rho C^S_p\\frac{dT^S_1}{dt} & = U_2(T^H_1 - T^S_1) + U_3(T_{env} - T^S_1)\n",
    "\\end{align}\n",
    "\n",
    "Standard Linear Form\n",
    "\n",
    "\\begin{align}\n",
    "\\frac{dT^H_1}{dt} & = \\frac{U_1}{\\rho C^H_p}(T_{env} - T^H_1) + \\frac{\\alpha}{\\rho C^H_p} Q_1  \\\\\n",
    "\\frac{dT^S_1}{dt} & = \\frac{U_2}{\\rho C^S_p}(T^H_1 - T^S_1) + \\frac{U_3}{\\rho C^S_p}(T_{env} - T^S_1)\n",
    "\\end{align}\n",
    "\n",
    "State-Space \n",
    "\n",
    "\\begin{align}\n",
    "\\frac{d}{dt}\\left[\\begin{array}{c}T^H_1 \\\\ T^S_1\\end{array}\\right] & = \\left[\\begin{array}{cc} -\\frac{U_1}{\\rho C^H_p} & 0 \\\\ \\frac{U_2}{\\rho C^S_p} & -\\left(\\frac{U_2}{\\rho C^S_p} + \\frac{U_3}{\\rho C^S_p}\\right) \\end{array}\\right]\\left[\\begin{array}{c}T^H_1 \\\\ T^S_1\\end{array}\\right] + \\left[\\begin{array}{cc}\\frac{\\alpha}{\\rho C^H_p} \\\\ 0\\end{array}\\right] Q_1 + \\left[\\begin{array}{cc}\\frac{U_1}{\\rho C^S_p} \\\\ \\frac{U_3}{\\rho C^S_p}\\end{array}\\right] T_{env}\n",
    "\\end{align} \n",
    "\n",
    "\n",
    "The model is somewhat less cumbersome to write if we use the environmental temperature as the reference for the temperatures of the heater and sensor\n",
    "\n",
    "\\begin{align}\n",
    "\\tilde{T}^H_1 & = T^H_1 - T_{env} \\\\\n",
    "\\tilde{T}^S_1 & = T^S_1 - T_{env}\n",
    "\\end{align}\n",
    "\n",
    "which leaves\n",
    "\n",
    "\\begin{align}\n",
    "\\frac{d\\tilde{T}^H_1}{dt} & = -\\frac{U_1}{\\rho C^H_p}\\tilde{T}^H_1 + \\frac{\\alpha}{\\rho C^H_p} Q_1  \\\\\n",
    "\\frac{d\\tilde{T}^S_1}{dt} & = \\frac{U_2}{\\rho C^S_p}(\\tilde{T}^H_1 - \\tilde{T}^S_1) - \\frac{U_3}{\\rho C^S_p}\\tilde{T}^S_1\n",
    "\\end{align}\n",
    "\n",
    "\\begin{align}\n",
    "\\frac{d}{dt}\\left[\\begin{array}{c}\\tilde{T}^H_1 \\\\ \\tilde{T}^S_1\\end{array}\\right] & = \\left[\\begin{array}{cc} -\\frac{U_1}{\\rho C^H_p} & 0 \\\\ \\frac{U_2}{\\rho C^S_p} & -\\left(\\frac{U_2}{\\rho C^S_p} + \\frac{U_3}{\\rho C^S_p}\\right) \\end{array}\\right] + \\left[\\begin{array}{cc}\\frac{\\alpha}{\\rho C^H_p} \\\\ 0\\end{array}\\right] Q_1\n",
    "\\end{align} \n",
    "\n",
    "\n",
    "Multivariable Heater/Sensor\n",
    "\n",
    "\\begin{align}\n",
    "\\rho C^H_p\\frac{dT^H_1}{dt} & = U_1(T_{env} - T^H_1)  + U_4(T^H_2 - T^H_1) + \\alpha Q_1\\\\\n",
    "\\rho C^S_p\\frac{dT^S_1}{dt} & = U_2(T^H_1 - T^S_1) + U_3(T_{env} - T^S_1)\\\\\n",
    "\\rho C^H_p\\frac{dT^H_2}{dt} & = U_1(T_{env} - T^H_2) + U_4(T^H_1 - T^H_2) + \\alpha Q_2  \\\\\n",
    "\\rho C^S_p\\frac{dT^S_2}{dt} & = U_2(T^H_2 - T^S_2) + U_3(T_{env} - T^S_2)\n",
    "\\end{align}\n"
   ]
  },
  {
   "cell_type": "code",
   "execution_count": null,
   "metadata": {
    "collapsed": true
   },
   "outputs": [],
   "source": []
  }
 ],
 "metadata": {
  "kernelspec": {
   "display_name": "Python 3",
   "language": "python",
   "name": "python3"
  },
  "language_info": {
   "codemirror_mode": {
    "name": "ipython",
    "version": 3
   },
   "file_extension": ".py",
   "mimetype": "text/x-python",
   "name": "python",
   "nbconvert_exporter": "python",
   "pygments_lexer": "ipython3",
   "version": "3.6.1"
  }
 },
 "nbformat": 4,
 "nbformat_minor": 2
}
