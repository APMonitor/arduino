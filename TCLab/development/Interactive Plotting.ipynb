{
 "cells": [
  {
   "cell_type": "code",
   "execution_count": 21,
   "metadata": {
    "collapsed": false,
    "deletable": true,
    "editable": true
   },
   "outputs": [
    {
     "name": "stdout",
     "output_type": "stream",
     "text": [
      "Using matplotlib backend: MacOSX\n"
     ]
    },
    {
     "data": {
      "application/vnd.jupyter.widget-view+json": {
       "model_id": "705c513c0ecb46ee83aec443150bd9e4"
      }
     },
     "metadata": {},
     "output_type": "display_data"
    }
   ],
   "source": [
    "%matplotlib\n",
    "import matplotlib.pyplot as plt\n",
    "import numpy as np\n",
    "from ipywidgets import interact\n",
    "\n",
    "t = np.linspace(0,10,400)\n",
    "y = np.sin(t)\n",
    "li, = plt.plot(t,5*y)\n",
    "\n",
    "@interact(a=(0,4,.1), f=(1,10,.1))\n",
    "def myplot(a,f):\n",
    "    li.set_ydata(a*np.sin(f*t))\n",
    "    plt.show() "
   ]
  },
  {
   "cell_type": "code",
   "execution_count": 15,
   "metadata": {
    "collapsed": false,
    "scrolled": false
   },
   "outputs": [
    {
     "data": {
      "image/png": "[encoded data removed]",
      "text/plain": [
       "<matplotlib.figure.Figure at 0x113e1ee10>"
      ]
     },
     "metadata": {},
     "output_type": "display_data"
    },
    {
     "name": "stdout",
     "output_type": "stream",
     "text": [
      "0.0\n",
      "0.0502512562814\n",
      "0.100502512563\n",
      "0.150753768844\n",
      "0.201005025126\n",
      "0.251256281407\n",
      "0.301507537688\n",
      "0.35175879397\n",
      "0.402010050251\n",
      "0.452261306533\n",
      "0.502512562814\n",
      "0.552763819095\n",
      "0.603015075377\n",
      "0.653266331658\n",
      "0.70351758794\n",
      "0.753768844221\n",
      "0.804020100503\n",
      "0.854271356784\n",
      "0.904522613065\n",
      "0.954773869347\n",
      "1.00502512563\n",
      "1.05527638191\n",
      "1.10552763819\n",
      "1.15577889447\n",
      "1.20603015075\n",
      "1.25628140704\n",
      "1.30653266332\n",
      "1.3567839196\n",
      "1.40703517588\n",
      "1.45728643216\n",
      "1.50753768844\n",
      "1.55778894472\n",
      "1.60804020101\n",
      "1.65829145729\n",
      "1.70854271357\n",
      "1.75879396985\n",
      "1.80904522613\n",
      "1.85929648241\n",
      "1.90954773869\n",
      "1.95979899497\n",
      "2.01005025126\n",
      "2.06030150754\n",
      "2.11055276382\n",
      "2.1608040201\n",
      "2.21105527638\n",
      "2.26130653266\n",
      "2.31155778894\n",
      "2.36180904523\n",
      "2.41206030151\n",
      "2.46231155779\n",
      "2.51256281407\n",
      "2.56281407035\n",
      "2.61306532663\n",
      "2.66331658291\n",
      "2.7135678392\n",
      "2.76381909548\n",
      "2.81407035176\n",
      "2.86432160804\n",
      "2.91457286432\n",
      "2.9648241206\n",
      "3.01507537688\n",
      "3.06532663317\n",
      "3.11557788945\n",
      "3.16582914573\n",
      "3.21608040201\n",
      "3.26633165829\n",
      "3.31658291457\n",
      "3.36683417085\n",
      "3.41708542714\n",
      "3.46733668342\n",
      "3.5175879397\n",
      "3.56783919598\n",
      "3.61809045226\n",
      "3.66834170854\n",
      "3.71859296482\n",
      "3.76884422111\n",
      "3.81909547739\n",
      "3.86934673367\n",
      "3.91959798995\n",
      "3.96984924623\n",
      "4.02010050251\n",
      "4.07035175879\n",
      "4.12060301508\n",
      "4.17085427136\n",
      "4.22110552764\n",
      "4.27135678392\n",
      "4.3216080402\n",
      "4.37185929648\n",
      "4.42211055276\n",
      "4.47236180905\n",
      "4.52261306533\n",
      "4.57286432161\n",
      "4.62311557789\n",
      "4.67336683417\n",
      "4.72361809045\n",
      "4.77386934673\n",
      "4.82412060302\n",
      "4.8743718593\n",
      "4.92462311558\n",
      "4.97487437186\n",
      "5.02512562814\n",
      "5.07537688442\n",
      "5.1256281407\n",
      "5.17587939698\n",
      "5.22613065327\n",
      "5.27638190955\n",
      "5.32663316583\n",
      "5.37688442211\n",
      "5.42713567839\n",
      "5.47738693467\n",
      "5.52763819095\n",
      "5.57788944724\n",
      "5.62814070352\n",
      "5.6783919598\n",
      "5.72864321608\n",
      "5.77889447236\n",
      "5.82914572864\n",
      "5.87939698492\n",
      "5.92964824121\n",
      "5.97989949749\n",
      "6.03015075377\n",
      "6.08040201005\n",
      "6.13065326633\n",
      "6.18090452261\n",
      "6.23115577889\n",
      "6.28140703518\n",
      "6.33165829146\n",
      "6.38190954774\n",
      "6.43216080402\n",
      "6.4824120603\n",
      "6.53266331658\n",
      "6.58291457286\n",
      "6.63316582915\n",
      "6.68341708543\n",
      "6.73366834171\n",
      "6.78391959799\n",
      "6.83417085427\n",
      "6.88442211055\n",
      "6.93467336683\n",
      "6.98492462312\n",
      "7.0351758794\n",
      "7.08542713568\n",
      "7.13567839196\n",
      "7.18592964824\n",
      "7.23618090452\n",
      "7.2864321608\n",
      "7.33668341709\n",
      "7.38693467337\n",
      "7.43718592965\n",
      "7.48743718593\n",
      "7.53768844221\n",
      "7.58793969849\n",
      "7.63819095477\n",
      "7.68844221106\n",
      "7.73869346734\n",
      "7.78894472362\n",
      "7.8391959799\n",
      "7.88944723618\n",
      "7.93969849246\n",
      "7.98994974874\n",
      "8.04020100503\n",
      "8.09045226131\n",
      "8.14070351759\n",
      "8.19095477387\n",
      "8.24120603015\n",
      "8.29145728643\n",
      "8.34170854271\n",
      "8.39195979899\n",
      "8.44221105528\n",
      "8.49246231156\n",
      "8.54271356784\n",
      "8.59296482412\n",
      "8.6432160804\n",
      "8.69346733668\n",
      "8.74371859296\n",
      "8.79396984925\n",
      "8.84422110553\n",
      "8.89447236181\n",
      "8.94472361809\n",
      "8.99497487437\n",
      "9.04522613065\n",
      "9.09547738693\n",
      "9.14572864322\n",
      "9.1959798995\n",
      "9.24623115578\n",
      "9.29648241206\n",
      "9.34673366834\n",
      "9.39698492462\n",
      "9.4472361809\n",
      "9.49748743719\n",
      "9.54773869347\n",
      "9.59798994975\n",
      "9.64824120603\n",
      "9.69849246231\n",
      "9.74874371859\n",
      "9.79899497487\n",
      "9.84924623116\n",
      "9.89949748744\n",
      "9.94974874372\n",
      "10.0\n"
     ]
    }
   ],
   "source": [
    "%matplotlib inline\n",
    "import matplotlib.pyplot as plt\n",
    "import numpy as np\n",
    "import time\n",
    "\n",
    "from ipywidgets import interact\n",
    "\n",
    "t = [0]\n",
    "y = [0]\n",
    "li, = plt.plot(t,y)\n",
    "plt.xlim(0,10)\n",
    "plt.ylim(-5,5)\n",
    "plt.show()\n",
    "\n",
    "for z in np.linspace(0,10,200):\n",
    "    li.set_xdata(np.append(li.get_xdata(),z))\n",
    "    li.set_ydata(np.append(li.get_ydata(),3*np.sin(z)))\n",
    "    plt.show()\n",
    "    time.sleep(0.01)\n",
    "    print(z,flush=True)\n",
    "    "
   ]
  },
  {
   "cell_type": "code",
   "execution_count": 5,
   "metadata": {
    "collapsed": false,
    "deletable": true,
    "editable": true
   },
   "outputs": [
    {
     "name": "stdout",
     "output_type": "stream",
     "text": [
      "Opening connection\n",
      "TCLab connected via Arduino on port /dev/tty.wchusbserial1410\n"
     ]
    }
   ],
   "source": [
    "%matplotlib inline \n",
    "import matplotlib.pyplot as plt\n",
    "import numpy as np\n",
    "import time\n",
    "\n",
    "import sys\n",
    "sys.path.append('../TCLab')\n",
    "from TCLab import TCLab\n",
    "a = TCLab()"
   ]
  },
  {
   "cell_type": "code",
   "execution_count": 7,
   "metadata": {
    "collapsed": false,
    "deletable": true,
    "editable": true
   },
   "outputs": [
    {
     "data": {
      "image/png": "[encoded data removed]",
      "text/plain": [
       "<matplotlib.figure.Figure at 0x117b352b0>"
      ]
     },
     "metadata": {},
     "output_type": "display_data"
    },
    {
     "data": {
      "image/png": "[encoded data removed]",
      "text/plain": [
       "<matplotlib.figure.Figure at 0x11a2afeb8>"
      ]
     },
     "metadata": {},
     "output_type": "display_data"
    }
   ],
   "source": [
    "tstart = time.time()\n",
    "a.Q1 = 100\n",
    "\n",
    "T1, = plt.plot([0],[a.T1])\n",
    "\n",
    "x = [0]\n",
    "y = [a.T1]\n",
    "fig,ax = plt.subplots(1,1)\n",
    "line = plt.plot(x,y)\n",
    "plt.show()\n",
    "    \n",
    "for k in range(0,10):\n",
    "    newT1 = a.T1\n",
    "    tnow = time.time() - tstart\n",
    "    x.append(tnow)\n",
    "    y.append(a.T1)\n",
    "    line[0].set_xdata(x)\n",
    "    line[0].set_ydata(y)\n",
    "\n",
    "    fig.canvas.draw()\n",
    "    time.sleep(2)\n",
    "    \n",
    "a.Q1 = 0"
   ]
  },
  {
   "cell_type": "code",
   "execution_count": 4,
   "metadata": {
    "collapsed": false,
    "deletable": true,
    "editable": true
   },
   "outputs": [
    {
     "data": {
      "text/plain": [
       "array([  0.        ,   0.1593349 ,   2.19492912,   4.23602605,\n",
       "         6.27399492,   8.31227899,  10.35267091,  12.38994098,\n",
       "        14.42691898,  16.46894884,  18.51088786])"
      ]
     },
     "execution_count": 4,
     "metadata": {},
     "output_type": "execute_result"
    }
   ],
   "source": [
    "T1.get_xdata()"
   ]
  },
  {
   "cell_type": "code",
   "execution_count": 27,
   "metadata": {
    "collapsed": false,
    "deletable": true,
    "editable": true
   },
   "outputs": [
    {
     "data": {
      "application/vnd.jupyter.widget-view+json": {
       "model_id": "93adc6d53a3f4974908df907b7fa3a1f"
      }
     },
     "metadata": {},
     "output_type": "display_data"
    },
    {
     "data": {
      "text/plain": [
       "<function __main__.heater>"
      ]
     },
     "execution_count": 27,
     "metadata": {},
     "output_type": "execute_result"
    }
   ],
   "source": [
    "from ipywidgets import interact\n",
    "\n",
    "def heater(Q):\n",
    "    a.Q1 = Q\n",
    "    print(a.T1,flush=True)\n",
    "    \n",
    "interact(heater, Q = (0,100))"
   ]
  },
  {
   "cell_type": "code",
   "execution_count": 24,
   "metadata": {
    "collapsed": false,
    "deletable": true,
    "editable": true
   },
   "outputs": [
    {
     "ename": "ValueError",
     "evalue": "invalid literal for int() with base 10: 'Sleep'",
     "output_type": "error",
     "traceback": [
      "\u001b[0;31m---------------------------------------------------------------------------\u001b[0m",
      "\u001b[0;31mValueError\u001b[0m                                Traceback (most recent call last)",
      "\u001b[0;32m<ipython-input-24-e077fae8537d>\u001b[0m in \u001b[0;36m<module>\u001b[0;34m()\u001b[0m\n\u001b[0;32m----> 1\u001b[0;31m \u001b[0ma\u001b[0m\u001b[0;34m.\u001b[0m\u001b[0mQ1\u001b[0m\u001b[0;34m=\u001b[0m\u001b[0;36m0\u001b[0m\u001b[0;34m\u001b[0m\u001b[0m\n\u001b[0m",
      "\u001b[0;32m/Users/jeff/Dropbox/Git/arduino/TCLab/TCLab/TCLab.py\u001b[0m in \u001b[0;36mQ1\u001b[0;34m(self, pwm)\u001b[0m\n\u001b[1;32m     77\u001b[0m     \u001b[0;32mdef\u001b[0m \u001b[0mQ1\u001b[0m\u001b[0;34m(\u001b[0m\u001b[0mself\u001b[0m\u001b[0;34m,\u001b[0m\u001b[0mpwm\u001b[0m\u001b[0;34m)\u001b[0m\u001b[0;34m:\u001b[0m\u001b[0;34m\u001b[0m\u001b[0m\n\u001b[1;32m     78\u001b[0m         \u001b[0mpwm\u001b[0m \u001b[0;34m=\u001b[0m \u001b[0mmax\u001b[0m\u001b[0;34m(\u001b[0m\u001b[0;36m0\u001b[0m\u001b[0;34m,\u001b[0m\u001b[0mmin\u001b[0m\u001b[0;34m(\u001b[0m\u001b[0;36m255\u001b[0m\u001b[0;34m,\u001b[0m\u001b[0mpwm\u001b[0m\u001b[0;34m)\u001b[0m\u001b[0;34m)\u001b[0m\u001b[0;34m\u001b[0m\u001b[0m\n\u001b[0;32m---> 79\u001b[0;31m         \u001b[0mself\u001b[0m\u001b[0;34m.\u001b[0m\u001b[0m_Q1\u001b[0m \u001b[0;34m=\u001b[0m \u001b[0mint\u001b[0m\u001b[0;34m(\u001b[0m\u001b[0mself\u001b[0m\u001b[0;34m.\u001b[0m\u001b[0mwrite\u001b[0m\u001b[0;34m(\u001b[0m\u001b[0;34m'Q1'\u001b[0m\u001b[0;34m,\u001b[0m\u001b[0mpwm\u001b[0m\u001b[0;34m)\u001b[0m\u001b[0;34m)\u001b[0m\u001b[0;34m\u001b[0m\u001b[0m\n\u001b[0m\u001b[1;32m     80\u001b[0m         \u001b[0mself\u001b[0m\u001b[0;34m.\u001b[0m\u001b[0mupdateLog\u001b[0m\u001b[0;34m(\u001b[0m\u001b[0;34m'Q1'\u001b[0m\u001b[0;34m,\u001b[0m\u001b[0mself\u001b[0m\u001b[0;34m.\u001b[0m\u001b[0m_Q1\u001b[0m\u001b[0;34m)\u001b[0m\u001b[0;34m\u001b[0m\u001b[0m\n\u001b[1;32m     81\u001b[0m \u001b[0;34m\u001b[0m\u001b[0m\n",
      "\u001b[0;31mValueError\u001b[0m: invalid literal for int() with base 10: 'Sleep'"
     ]
    }
   ],
   "source": [
    "a.Q1=0"
   ]
  },
  {
   "cell_type": "code",
   "execution_count": 38,
   "metadata": {
    "collapsed": false,
    "deletable": true,
    "editable": true
   },
   "outputs": [
    {
     "data": {
      "image/png": "[encoded data removed]",
      "text/plain": [
       "<matplotlib.figure.Figure at 0x1159504a8>"
      ]
     },
     "metadata": {},
     "output_type": "display_data"
    }
   ],
   "source": [
    "%matplotlib inline\n",
    "\n"
   ]
  },
  {
   "cell_type": "code",
   "execution_count": 15,
   "metadata": {
    "collapsed": false,
    "deletable": true,
    "editable": true
   },
   "outputs": [
    {
     "name": "stdout",
     "output_type": "stream",
     "text": [
      "0\n",
      "1\n",
      "2\n",
      "3\n",
      "4\n",
      "5\n",
      "6\n",
      "7\n",
      "8\n",
      "9\n"
     ]
    }
   ],
   "source": [
    "import pyqtgraph as pg\n",
    "import numpy as np\n",
    "pw = pg.plot(x,y)\n",
    "pg.QtGui.QApplication.exec_()\n",
    "\n",
    "for k in range(0,10):\n",
    "    pw.plot(x,y,clear=True)\n",
    "    print(k,flush=True)\n",
    "    time.sleep(1)"
   ]
  },
  {
   "cell_type": "code",
   "execution_count": null,
   "metadata": {
    "collapsed": true,
    "deletable": true,
    "editable": true
   },
   "outputs": [],
   "source": []
  },
  {
   "cell_type": "code",
   "execution_count": null,
   "metadata": {
    "collapsed": true,
    "deletable": true,
    "editable": true
   },
   "outputs": [],
   "source": []
  }
 ],
 "metadata": {
  "kernelspec": {
   "display_name": "Python 3",
   "language": "python",
   "name": "python3"
  },
  "language_info": {
   "codemirror_mode": {
    "name": "ipython",
    "version": 3
   },
   "file_extension": ".py",
   "mimetype": "text/x-python",
   "name": "python",
   "nbconvert_exporter": "python",
   "pygments_lexer": "ipython3",
   "version": "3.6.1"
  }
 },
 "nbformat": 4,
 "nbformat_minor": 2
}
